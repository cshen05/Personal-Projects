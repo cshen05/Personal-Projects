from bs4 import BeautifulSoup
import requests
import re
import pandas as pd;
import numpy as np;
from PyInquirer import prompt
import os
import signal
import sys

