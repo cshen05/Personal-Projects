{
 "cells": [
  {
   "cell_type": "code",
   "execution_count": 1,
   "metadata": {},
   "outputs": [],
   "source": [
    "# beautiful soup libraries\n",
    "from bs4 import BeautifulSoup\n",
    "from urllib.request import Request, urlopen\n",
    "import urllib.request"
   ]
  },
  {
   "cell_type": "code",
   "execution_count": 13,
   "metadata": {},
   "outputs": [],
   "source": [
    "# define & request the url that we want to scrape\n",
    "wiki_url = r\"https://en.wikipedia.org/wiki/Eastern_Front_(World_War_II)\"\n",
    "html_content = urllib.request.urlopen(wiki_url)\n",
    "\n",
    "#Pass the html_content(the webpage) through our beautiful sour object\n",
    "soup = BeautifulSoup(html_content, 'html.parser')"
   ]
  },
  {
   "cell_type": "code",
   "execution_count": 17,
   "metadata": {},
   "outputs": [
    {
     "data": {
      "text/plain": [
       "<a class=\"mw-jump-link\" href=\"#bodyContent\">Jump to content</a>"
      ]
     },
     "metadata": {},
     "output_type": "display_data"
    }
   ],
   "source": [
    "#testing\n",
    "#find the first 'a' tag that has an 'href' attribute\n",
    "link = soup.find('a', href=True)\n",
    "\n",
    "display(link)"
   ]
  },
  {
   "cell_type": "code",
   "execution_count": 15,
   "metadata": {},
   "outputs": [
    {
     "data": {
      "text/plain": [
       "bs4.element.Tag"
      ]
     },
     "metadata": {},
     "output_type": "display_data"
    },
    {
     "data": {
      "text/plain": [
       "'a'"
      ]
     },
     "metadata": {},
     "output_type": "display_data"
    },
    {
     "data": {
      "text/plain": [
       "{'class': ['mw-jump-link'], 'href': '#bodyContent'}"
      ]
     },
     "metadata": {},
     "output_type": "display_data"
    },
    {
     "data": {
      "text/plain": [
       "'#bodyContent'"
      ]
     },
     "metadata": {},
     "output_type": "display_data"
    },
    {
     "data": {
      "text/plain": [
       "'Jump to content'"
      ]
     },
     "metadata": {},
     "output_type": "display_data"
    }
   ],
   "source": [
    "#what is the type\n",
    "display(type(link))\n",
    "\n",
    "#define the name\n",
    "display(link.name)\n",
    "\n",
    "#get the dictionary attribute\n",
    "display(link.attrs)\n",
    "\n",
    "#lets get each value in that dictionary, luckily there is only 2\n",
    "display(link['href'])\n",
    "#display(link['title'])\n",
    "\n",
    "#can also get text if there is any\n",
    "display(link.text)"
   ]
  },
  {
   "cell_type": "code",
   "execution_count": 8,
   "metadata": {},
   "outputs": [
    {
     "data": {
      "text/plain": [
       "bs4.element.ResultSet"
      ]
     },
     "metadata": {},
     "output_type": "display_data"
    },
    {
     "name": "stdout",
     "output_type": "stream",
     "text": [
      "#bodyContent\n",
      "/wiki/Main_Page\n",
      "/wiki/Wikipedia:Contents\n",
      "/wiki/Portal:Current_events\n",
      "/wiki/Special:Random\n",
      "/wiki/Wikipedia:About\n",
      "//en.wikipedia.org/wiki/Wikipedia:Contact_us\n",
      "https://donate.wikimedia.org/wiki/Special:FundraiserRedirector?utm_source=donate&utm_medium=sidebar&utm_campaign=C13_en.wikipedia.org&uselang=en\n",
      "/wiki/Help:Contents\n",
      "/wiki/Help:Introduction\n"
     ]
    }
   ],
   "source": [
    "#find all the links in the document\n",
    "links = soup.find_all('a', href=True)\n",
    "\n",
    "#should be bs4.elelment.ResultSet\n",
    "display(type(links))\n",
    "\n",
    "#iterate through the result\n",
    "for link in links [0:10]:\n",
    "    print(link['href'])"
   ]
  },
  {
   "cell_type": "code",
   "execution_count": 18,
   "metadata": {},
   "outputs": [],
   "source": [
    "# more find_all\n",
    "\n",
    "#return list of all <table> and <a> tag\n",
    "tables_and_links = soup.find_all(['a', 'table'])\n",
    "\n",
    "#return a list of all the <table> tag with a 'content' attribute\n",
    "tables_with_cont = soup.find_all('th', style=\"width: 10%;\")\n",
    "\n",
    "#return a list of all the <div> tags that have a class attribute of 'navbox'\n",
    "div_with_nav = soup.find_all('div', 'navbox')\n",
    "\n",
    "#define a function to find the item\n",
    "def list_with_links(tag):\n",
    "    return tag.name == 'li' and len(tag.find_all('a')) > 7\n",
    "\n",
    "#use function with find_all\n",
    "list_items_with_links = soup.find_all(list_with_links)"
   ]
  },
  {
   "cell_type": "code",
   "execution_count": 19,
   "metadata": {},
   "outputs": [
    {
     "name": "stdout",
     "output_type": "stream",
     "text": [
      "<html>\n",
      " <body>\n",
      "  <a>\n",
      "   <b>\n",
      "    text1\n",
      "   </b>\n",
      "   <c>\n",
      "    text2\n",
      "   </c>\n",
      "  </a>\n",
      " </body>\n",
      "</html>\n",
      "\n"
     ]
    }
   ],
   "source": [
    "#define a simple tree\n",
    "simple_tree = \"\"\"<html><body><a><b>text1</b><c>text2</c></a></body></html>\"\"\"\n",
    "\n",
    "#pass simple_tree into parser to create some simple soup\n",
    "simple_soup = BeautifulSoup(simple_tree, 'html.parser')\n",
    "\n",
    "#print in familiar structure\n",
    "print(simple_soup.prettify())"
   ]
  },
  {
   "cell_type": "code",
   "execution_count": 20,
   "metadata": {},
   "outputs": [
    {
     "data": {
      "text/plain": [
       "[<b>text1</b>, <c>text2</c>]"
      ]
     },
     "metadata": {},
     "output_type": "display_data"
    },
    {
     "data": {
      "text/plain": [
       "<b>text1</b>"
      ]
     },
     "metadata": {},
     "output_type": "display_data"
    },
    {
     "data": {
      "text/plain": [
       "<b>text1</b>"
      ]
     },
     "metadata": {},
     "output_type": "display_data"
    },
    {
     "data": {
      "text/plain": [
       "<c>text2</c>"
      ]
     },
     "metadata": {},
     "output_type": "display_data"
    }
   ],
   "source": [
    "#list of children\n",
    "a_content = simple_soup.a.contents\n",
    "display(a_content)\n",
    "\n",
    "#display first child\n",
    "display(a_content[0])\n",
    "\n",
    "#create a generator to iterate over children\n",
    "for child in simple_soup.a.children:\n",
    "    display(child)"
   ]
  },
  {
   "cell_type": "code",
   "execution_count": 21,
   "metadata": {},
   "outputs": [
    {
     "data": {
      "text/plain": [
       "2"
      ]
     },
     "metadata": {},
     "output_type": "display_data"
    },
    {
     "data": {
      "text/plain": [
       "4"
      ]
     },
     "metadata": {},
     "output_type": "display_data"
    },
    {
     "name": "stdout",
     "output_type": "stream",
     "text": [
      "<b>text1</b>\n",
      "text1\n",
      "<c>text2</c>\n",
      "text2\n"
     ]
    }
   ],
   "source": [
    "#verify descendants\n",
    "display(len(list(simple_soup.a.children)))\n",
    "display(len(list(simple_soup.a.descendants)))\n",
    "\n",
    "#iterate through descendants\n",
    "for descendant in simple_soup.a.descendants:\n",
    "    print(descendant)"
   ]
  },
  {
   "cell_type": "code",
   "execution_count": 22,
   "metadata": {},
   "outputs": [
    {
     "data": {
      "text/plain": [
       "<body><a><b>text1</b><c>text2</c></a></body>"
      ]
     },
     "metadata": {},
     "output_type": "display_data"
    },
    {
     "data": {
      "text/plain": [
       "<html><body><a><b>text1</b><c>text2</c></a></body></html>"
      ]
     },
     "metadata": {},
     "output_type": "display_data"
    },
    {
     "name": "stdout",
     "output_type": "stream",
     "text": [
      "<body><a><b>text1</b><c>text2</c></a></body>\n",
      "<html><body><a><b>text1</b><c>text2</c></a></body></html>\n",
      "<html><body><a><b>text1</b><c>text2</c></a></body></html>\n"
     ]
    }
   ],
   "source": [
    "#parents\n",
    "display(simple_soup.a.parent)\n",
    "\n",
    "#verify grandparents\n",
    "display(simple_soup.a.parent.parent)\n",
    "\n",
    "#better\n",
    "for parent in simple_soup.a.parents:\n",
    "    print(parent)"
   ]
  },
  {
   "cell_type": "code",
   "execution_count": 23,
   "metadata": {},
   "outputs": [
    {
     "data": {
      "text/plain": [
       "<b>text1</b>"
      ]
     },
     "metadata": {},
     "output_type": "display_data"
    },
    {
     "data": {
      "text/plain": [
       "<c>text2</c>"
      ]
     },
     "metadata": {},
     "output_type": "display_data"
    },
    {
     "data": {
      "text/plain": [
       "<b>text1</b>"
      ]
     },
     "metadata": {},
     "output_type": "display_data"
    },
    {
     "data": {
      "text/plain": [
       "None"
      ]
     },
     "metadata": {},
     "output_type": "display_data"
    }
   ],
   "source": [
    "#sideways\n",
    "\n",
    "#grab b tag\n",
    "display(simple_soup.b)\n",
    "\n",
    "#grab next sibling (c)\n",
    "display(simple_soup.b.next_sibling)\n",
    "\n",
    "#grab previous sibling (b)\n",
    "display(simple_soup.c.previous_sibling)\n",
    "\n",
    "#calling previous_sibling on b (none)\n",
    "display(simple_soup.b.previous_sibling)"
   ]
  },
  {
   "cell_type": "code",
   "execution_count": 24,
   "metadata": {},
   "outputs": [
    {
     "data": {
      "text/plain": [
       "'\\n'"
      ]
     },
     "metadata": {},
     "output_type": "display_data"
    },
    {
     "data": {
      "text/plain": [
       "<style data-mw-deduplicate=\"TemplateStyles:r1097763485\">.mw-parser-output .ambox{border:1px solid #a2a9b1;border-left:10px solid #36c;background-color:#fbfbfb;box-sizing:border-box}.mw-parser-output .ambox+link+.ambox,.mw-parser-output .ambox+link+style+.ambox,.mw-parser-output .ambox+link+link+.ambox,.mw-parser-output .ambox+.mw-empty-elt+link+.ambox,.mw-parser-output .ambox+.mw-empty-elt+link+style+.ambox,.mw-parser-output .ambox+.mw-empty-elt+link+link+.ambox{margin-top:-1px}html body.mediawiki .mw-parser-output .ambox.mbox-small-left{margin:4px 1em 4px 0;overflow:hidden;width:238px;border-collapse:collapse;font-size:88%;line-height:1.25em}.mw-parser-output .ambox-speedy{border-left:10px solid #b32424;background-color:#fee7e6}.mw-parser-output .ambox-delete{border-left:10px solid #b32424}.mw-parser-output .ambox-content{border-left:10px solid #f28500}.mw-parser-output .ambox-style{border-left:10px solid #fc3}.mw-parser-output .ambox-move{border-left:10px solid #9932cc}.mw-parser-output .ambox-protection{border-left:10px solid #a2a9b1}.mw-parser-output .ambox .mbox-text{border:none;padding:0.25em 0.5em;width:100%}.mw-parser-output .ambox .mbox-image{border:none;padding:2px 0 2px 0.5em;text-align:center}.mw-parser-output .ambox .mbox-imageright{border:none;padding:2px 0.5em 2px 0;text-align:center}.mw-parser-output .ambox .mbox-empty-cell{border:none;padding:0;width:1px}.mw-parser-output .ambox .mbox-image-div{width:52px}html.client-js body.skin-minerva .mw-parser-output .mbox-text-span{margin-left:23px!important}@media(min-width:720px){.mw-parser-output .ambox{margin:0 10%}}</style>"
      ]
     },
     "metadata": {},
     "output_type": "display_data"
    },
    {
     "data": {
      "text/plain": [
       "'\\n'"
      ]
     },
     "metadata": {},
     "output_type": "display_data"
    },
    {
     "data": {
      "text/plain": [
       "<p class=\"mw-empty-elt\">\n",
       "</p>"
      ]
     },
     "metadata": {},
     "output_type": "display_data"
    }
   ],
   "source": [
    "#grab first paragraph and then its siblings\n",
    "display(soup.p.next_sibling)\n",
    "display(soup.p.next_sibling.next_sibling)\n",
    "\n",
    "#define the bottom\n",
    "bottom = soup.p.next_sibling.next_sibling\n",
    "\n",
    "#grab first paragraph and then its sibling\n",
    "display(bottom.previous_sibling)\n",
    "display(bottom.previous_sibling.previous_sibling)\n"
   ]
  },
  {
   "cell_type": "code",
   "execution_count": null,
   "metadata": {},
   "outputs": [],
   "source": [
    "#going back and forth"
   ]
  }
 ],
 "metadata": {
  "kernelspec": {
   "display_name": "base",
   "language": "python",
   "name": "python3"
  },
  "language_info": {
   "codemirror_mode": {
    "name": "ipython",
    "version": 3
   },
   "file_extension": ".py",
   "mimetype": "text/x-python",
   "name": "python",
   "nbconvert_exporter": "python",
   "pygments_lexer": "ipython3",
   "version": "3.11.7"
  }
 },
 "nbformat": 4,
 "nbformat_minor": 2
}
