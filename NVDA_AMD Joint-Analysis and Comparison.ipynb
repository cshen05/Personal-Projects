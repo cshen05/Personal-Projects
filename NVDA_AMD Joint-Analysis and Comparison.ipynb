{
 "cells": [
  {
   "cell_type": "code",
   "execution_count": 54,
   "metadata": {},
   "outputs": [],
   "source": [
    "#financial strength & growth\n",
    "#uses 10-K and 10-Q filings from SEC's EDGAR database \n",
    "#this script parses XML data from company filings and converts them into workable dataframes\n",
    "\n",
    "from bs4 import BeautifulSoup\n",
    "import requests\n",
    "import sys\n",
    "import pandas as pd\n",
    "import numpy as np\n",
    "import matplotlib.pyplot as plt\n",
    "import seaborn as sns\n",
    "from scipy import stats"
   ]
  },
  {
   "cell_type": "code",
   "execution_count": 42,
   "metadata": {},
   "outputs": [],
   "source": [
    "sns.set_style('whitegrid')\n",
    "%matplotlib inline"
   ]
  },
  {
   "cell_type": "code",
   "execution_count": 43,
   "metadata": {},
   "outputs": [],
   "source": [
    "#choosing company, file version, and date\n",
    "file = '10-Q'\n",
    "end = '20191231' #2019-12-31\n",
    "cik1 = '0001512673' #SQ\n",
    "cik2 = '0001633917' #PYPL\n",
    "\n",
    "xmlList1 = []\n",
    "xmlList2 = []\n",
    "\n",
    "xmlList1.append('https://www.sec.gov/ix?doc=/Archives/edgar/data/0001512673/000162828022003825/sq-20211231.htm.xml')\n",
    "xmlList2.append('https://www.sec.gov/ix?doc=/Archives/edgar/data/0001633917/000163391722000027/pypl-20211231.htm.xml')"
   ]
  },
  {
   "cell_type": "code",
   "execution_count": 56,
   "metadata": {},
   "outputs": [],
   "source": [
    "url = \"https://www.sec.gov/cgi-bin/browse-edgar?action=getcompany&CIK={}&type={}&dateb={}\"\n",
    "urlstr1 = requests.get(url.format(cik1, file, end)).text\n",
    "urlstr2 = requests.get(url.format(cik2, file, end)).text\n",
    "\n",
    "#print(urlstr1)"
   ]
  }
 ],
 "metadata": {
  "kernelspec": {
   "display_name": "base",
   "language": "python",
   "name": "python3"
  },
  "language_info": {
   "codemirror_mode": {
    "name": "ipython",
    "version": 3
   },
   "file_extension": ".py",
   "mimetype": "text/x-python",
   "name": "python",
   "nbconvert_exporter": "python",
   "pygments_lexer": "ipython3",
   "version": "3.11.7"
  }
 },
 "nbformat": 4,
 "nbformat_minor": 2
}
